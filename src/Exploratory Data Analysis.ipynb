{
 "cells": [
  {
   "cell_type": "markdown",
   "metadata": {},
   "source": [
    "Here we do some more EDA on the UNdata that we have."
   ]
  },
  {
   "cell_type": "code",
   "execution_count": 1,
   "metadata": {},
   "outputs": [],
   "source": [
    "import pandas as pd\n",
    "import pickle\n",
    "DATA_FILENAME = './datasets/data.pickle'"
   ]
  },
  {
   "cell_type": "code",
   "execution_count": 2,
   "metadata": {},
   "outputs": [],
   "source": [
    "with open(DATA_FILENAME, 'rb') as handle:\n",
    "    data = pickle.load(handle)"
   ]
  },
  {
   "cell_type": "code",
   "execution_count": 3,
   "metadata": {},
   "outputs": [
    {
     "name": "stdout",
     "output_type": "stream",
     "text": [
      "education index\n",
      "hdi\n",
      "gdp\n",
      "life expectancy\n",
      "greenhouse gas\n",
      "electricity employment\n",
      "energy demand\n",
      "energy production\n",
      "energy consumption\n",
      "solar electricity production\n",
      "wind electricity production\n",
      "hydro electricity production\n",
      "wave electricity production\n",
      "nuclear electricity production\n",
      "brown coal energy production\n",
      "brown coal briquettes energy production\n",
      "charcoal energy production\n",
      "coal tar energy production\n",
      "coking coal energy production\n",
      "crude oil energy production\n",
      "fuel oil energy production\n",
      "gas diesel oils energy production\n",
      "other oils energy production\n"
     ]
    }
   ],
   "source": [
    "for column in data.keys():\n",
    "    print(column)"
   ]
  },
  {
   "cell_type": "markdown",
   "metadata": {},
   "source": [
    "#### Data about combustible production"
   ]
  },
  {
   "cell_type": "code",
   "execution_count": 4,
   "metadata": {
    "scrolled": true
   },
   "outputs": [],
   "source": [
    "combustible_sources = [\n",
    "    'brown coal energy production',\n",
    "    'brown coal briquettes energy production',\n",
    "    'charcoal energy production',\n",
    "    'coal tar energy production',\n",
    "    'coking coal energy production',\n",
    "    'crude oil energy production',\n",
    "    'fuel oil energy production',\n",
    "    'gas diesel oils energy production',\n",
    "    'other oils energy production'\n",
    "]\n",
    "\n",
    "combustible_df = pd.DataFrame(columns=['country', 'year']).set_index(['country', 'year'])\n",
    "combustible_df = combustible_df.join([ data[combustible_source][combustible_source] for combustible_source in combustible_sources ], how='outer').sum(axis=1)"
   ]
  },
  {
   "cell_type": "markdown",
   "metadata": {},
   "source": [
    "#### Data about renewable production"
   ]
  },
  {
   "cell_type": "code",
   "execution_count": 5,
   "metadata": {},
   "outputs": [],
   "source": [
    "renewable_sources = [\n",
    "    'solar electricity production',\n",
    "    'wind electricity production',\n",
    "    'hydro electricity production',\n",
    "    'wave electricity production',\n",
    "]\n",
    "\n",
    "renewable_df = pd.DataFrame(columns=['country', 'year']).set_index(['country', 'year'])\n",
    "renewable_df = renewable_df.join([ data[renewable_source][renewable_source] for renewable_source in renewable_sources ], how='outer').sum(axis=1)"
   ]
  },
  {
   "cell_type": "markdown",
   "metadata": {},
   "source": [
    "#### Final data"
   ]
  },
  {
   "cell_type": "code",
   "execution_count": 6,
   "metadata": {
    "scrolled": false
   },
   "outputs": [],
   "source": [
    "# How many years to be considered when talking about \"last years\"\n",
    "NUMBER_LAST_YEARS = 5\n",
    "\n",
    "df = data['energy consumption'].join([data['energy production'], data['nuclear electricity production']], how='outer')\n",
    "df['combustible production'] = combustible_df\n",
    "df['renewable production'] = renewable_df\n",
    "df = df.reset_index()\n",
    "countries = df['country'].unique()\n",
    "\n",
    "# key: country\n",
    "# value: dict where key={'energy consumption', 'combustible production', 'renewable production'}\n",
    "#               and value is float with respective value\n",
    "last_years = {}\n",
    "\n",
    "for country in countries:\n",
    "    \n",
    "    # Take data from last NUMBER_LAST_YEARS years\n",
    "    last_years_data = df[df['country'] == country].tail(NUMBER_LAST_YEARS).sum()\n",
    "    \n",
    "    last_years[country] = {\n",
    "        'energy consumption': last_years_data['energy consumption'],\n",
    "        'combustible production': last_years_data['combustible production'],\n",
    "        'renewable production': last_years_data['renewable production'],\n",
    "        'nuclear production': last_years_data['nuclear electricity production'],\n",
    "        'total production': last_years_data['energy production'],\n",
    "    }"
   ]
  },
  {
   "cell_type": "code",
   "execution_count": 7,
   "metadata": {},
   "outputs": [
    {
     "name": "stdout",
     "output_type": "stream",
     "text": [
      "Among 243 countries, in the last 5 years available in the dataset:\n",
      " - 56 have a combustible production >= 90% total consumption\n",
      "\t\tAlgeria\n",
      "\t\tAngola\n",
      "\t\tAustralia\n",
      "\t\tAzerbaijan\n",
      "\t\tBosnia and Herzegovina\n",
      "\t\tBrunei Darussalam\n",
      "\t\tBulgaria\n",
      "\t\tBurundi\n",
      "\t\tCentral African Rep.\n",
      "\t\tChad\n",
      "\t\tColombia\n",
      "\t\tComoros\n",
      "\t\tCongo\n",
      "\t\tCuraçao\n",
      "\t\tCzechoslovakia (former)\n",
      "\t\tEcuador\n",
      "\t\tEquatorial Guinea\n",
      "\t\tGabon\n",
      "\t\tGerman Dem. R. (former)\n",
      "\t\tGreece\n",
      "\t\tGuinea-Bissau\n",
      "\t\tHaiti\n",
      "\t\tIran (Islamic Rep. of)\n",
      "\t\tIraq\n",
      "\t\tKazakhstan\n",
      "\t\tKosovo\n",
      "\t\tKuwait\n",
      "\t\tLao People's Dem. Rep.\n",
      "\t\tLiberia\n",
      "\t\tLibya\n",
      "\t\tMongolia\n",
      "\t\tNeth. Antilles (former)\n",
      "\t\tNiger\n",
      "\t\tNigeria\n",
      "\t\tNorth Macedonia\n",
      "\t\tOman\n",
      "\t\tPacific Islands (former)\n",
      "\t\tQatar\n",
      "\t\tRussian Federation\n",
      "\t\tRwanda\n",
      "\t\tSaudi Arabia\n",
      "\t\tSerbia\n",
      "\t\tSerbia and Montenegro\n",
      "\t\tSierra Leone\n",
      "\t\tSomalia\n",
      "\t\tSouth Sudan\n",
      "\t\tSudan (former)\n",
      "\t\tSuriname\n",
      "\t\tTimor-Leste\n",
      "\t\tTurkmenistan\n",
      "\t\tUnited Arab Emirates\n",
      "\t\tVenezuela (Bolivar. Rep.)\n",
      "\t\tYemen\n",
      "\t\tYemen Arab Rep. (former)\n",
      "\t\tYemen, Dem. (former)\n",
      "\t\tYugoslavia, SFR (former)\n",
      " - 25 have a renewable production >= 90% total consumption\n",
      "\t\tAlbania\n",
      "\t\tBhutan\n",
      "\t\tCentral African Rep.\n",
      "\t\tColombia\n",
      "\t\tCongo\n",
      "\t\tCosta Rica\n",
      "\t\tDem. Rep. of the Congo\n",
      "\t\tEthiopia\n",
      "\t\tEthiopia, incl. Eritrea\n",
      "\t\tGeorgia\n",
      "\t\tGreenland\n",
      "\t\tKorea, Dem.Ppl's.Rep.\n",
      "\t\tKyrgyzstan\n",
      "\t\tLao People's Dem. Rep.\n",
      "\t\tMalawi\n",
      "\t\tMozambique\n",
      "\t\tNorway\n",
      "\t\tPacific Islands (former)\n",
      "\t\tParaguay\n",
      "\t\tSierra Leone\n",
      "\t\tTajikistan\n",
      "\t\tUganda\n",
      "\t\tUruguay\n",
      "\t\tYemen Arab Rep. (former)\n",
      "\t\tYemen, Dem. (former)\n",
      " - 4 have a nuclear production >= 90% total consumption\n",
      "\t\tFrance\n",
      "\t\tPacific Islands (former)\n",
      "\t\tYemen Arab Rep. (former)\n",
      "\t\tYemen, Dem. (former)\n",
      " - 15 have a renewable production >= 90% total production\n",
      "\t\tAlbania\n",
      "\t\tBhutan\n",
      "\t\tCentral African Rep.\n",
      "\t\tDem. Rep. of the Congo\n",
      "\t\tEthiopia\n",
      "\t\tLesotho\n",
      "\t\tLiechtenstein\n",
      "\t\tMalawi\n",
      "\t\tNamibia\n",
      "\t\tNepal\n",
      "\t\tNorway\n",
      "\t\tParaguay\n",
      "\t\tTajikistan\n",
      "\t\tUganda\n",
      "\t\tZambia\n"
     ]
    }
   ],
   "source": [
    "number_countries = len(last_years)\n",
    "\n",
    "# Countries where the combustible energy production is greater or equal (ge) than the total energy consumption\n",
    "combustible_production_ge_90_consumption = []\n",
    "\n",
    "# Countries where the renewable energy production is greater or equal (ge) than the total energy consumption\n",
    "renewable_production_ge_90_consumption = []\n",
    "\n",
    "# Countries where the nuclear energy production is greater or equal (ge) than the total energy consumption\n",
    "nuclear_production_ge_90_consumption = []\n",
    "\n",
    "# Countries where the renewable energy production is greater or equal (ge) than the 80% of total energy production\n",
    "renewable_production_ge_90_total = []\n",
    "\n",
    "for country, country_data in last_years.items():\n",
    "    if country_data['combustible production'] >= country_data['energy consumption'] * .9:\n",
    "        combustible_production_ge_90_consumption += [country]\n",
    "        \n",
    "    if country_data['renewable production'] >= country_data['energy consumption'] * .9:\n",
    "        renewable_production_ge_90_consumption += [country]\n",
    "        \n",
    "    if country_data['nuclear production'] >= country_data['energy consumption'] * .9:\n",
    "        nuclear_production_ge_90_consumption += [country]\n",
    "        \n",
    "    if country_data['renewable production'] >= country_data['total production'] * .9:\n",
    "        renewable_production_ge_90_total += [country]\n",
    "        \n",
    "print(f\"Among {number_countries} countries, in the last {NUMBER_LAST_YEARS} years available in the dataset:\")\n",
    "\n",
    "print(f\" - {len(combustible_production_ge_90_consumption)} have a combustible production >= 90% total consumption\")\n",
    "for country in combustible_production_ge_90_consumption:\n",
    "    print(f\"\\t\\t{country}\")\n",
    "\n",
    "print(f\" - {len(renewable_production_ge_90_consumption)} have a renewable production >= 90% total consumption\")\n",
    "for country in renewable_production_ge_90_consumption:\n",
    "    print(f\"\\t\\t{country}\")\n",
    "\n",
    "print(f\" - {len(nuclear_production_ge_90_consumption)} have a nuclear production >= 90% total consumption\")\n",
    "for country in nuclear_production_ge_90_consumption:\n",
    "    print(f\"\\t\\t{country}\")\n",
    "\n",
    "print(f\" - {len(renewable_production_ge_90_total)} have a renewable production >= 90% total production\")\n",
    "for country in renewable_production_ge_90_total:\n",
    "    print(f\"\\t\\t{country}\")"
   ]
  }
 ],
 "metadata": {
  "kernelspec": {
   "display_name": "Python 3",
   "language": "python",
   "name": "python3"
  },
  "language_info": {
   "codemirror_mode": {
    "name": "ipython",
    "version": 3
   },
   "file_extension": ".py",
   "mimetype": "text/x-python",
   "name": "python",
   "nbconvert_exporter": "python",
   "pygments_lexer": "ipython3",
   "version": "3.8.3"
  }
 },
 "nbformat": 4,
 "nbformat_minor": 4
}
